{
 "cells": [
  {
   "cell_type": "code",
   "execution_count": 1,
   "metadata": {},
   "outputs": [
    {
     "name": "stdout",
     "output_type": "stream",
     "text": [
      "      Unnamed: 0    ID                                  Title  Year  Age  \\\n",
      "0              0     1                           Breaking Bad  2008  18+   \n",
      "1              1     2                        Stranger Things  2016  16+   \n",
      "2              2     3                        Attack on Titan  2013  18+   \n",
      "3              3     4                       Better Call Saul  2015  18+   \n",
      "4              4     5                                   Dark  2017  16+   \n",
      "...          ...   ...                                    ...   ...  ...   \n",
      "5363        5363  5713                       Paradise Islands  2017  NaN   \n",
      "5364        5364  5714                         Mexico Untamed  2018  NaN   \n",
      "5365        5365  5715                  Wild Centeral America  2020  NaN   \n",
      "5366        5366  5716                            Wild Russia  2018  NaN   \n",
      "5367        5367  5717  Fearless Adventures with Jack Randall  2018  NaN   \n",
      "\n",
      "        IMDb Rotten Tomatoes  Netflix  Hulu  Prime Video  Disney+  Type  \n",
      "0     9.4/10         100/100        1     0            0        0     1  \n",
      "1     8.7/10          96/100        1     0            0        0     1  \n",
      "2     9.0/10          95/100        1     1            0        0     1  \n",
      "3     8.8/10          94/100        1     0            0        0     1  \n",
      "4     8.8/10          93/100        1     0            0        0     1  \n",
      "...      ...             ...      ...   ...          ...      ...   ...  \n",
      "5363     NaN          10/100        0     0            0        1     1  \n",
      "5364     NaN          10/100        0     0            0        1     1  \n",
      "5365     NaN          10/100        0     0            0        1     1  \n",
      "5366     NaN          10/100        0     0            0        1     1  \n",
      "5367     NaN          10/100        0     0            0        1     1  \n",
      "\n",
      "[5368 rows x 12 columns]\n"
     ]
    }
   ],
   "source": [
    "import pandas as pd\n",
    "import numpy as np\n",
    "import os\n",
    "\n",
    "df = pd.read_csv('tv_shows.csv')\n",
    "Tvshows = pd.DataFrame(df)\n",
    "#   checking functionality\n",
    "print(Tvshows)\n"
   ]
  },
  {
   "cell_type": "code",
   "execution_count": 3,
   "metadata": {},
   "outputs": [
    {
     "name": "stdout",
     "output_type": "stream",
     "text": [
      "[1904 1931 1932 1934 1943 1945 1947 1948 1951 1952 1953 1954 1955 1957\n",
      " 1958 1959 1960 1961 1962 1963 1964 1965 1966 1967 1968 1969 1970 1971\n",
      " 1972 1973 1974 1975 1976 1977 1978 1979 1980 1981 1982 1983 1984 1985\n",
      " 1986 1987 1988 1989 1990 1991 1992 1993 1994 1995 1996 1997 1998 1999\n",
      " 2000 2001 2002 2003 2004 2005 2006 2007 2008 2009 2010 2011 2012 2013\n",
      " 2014 2015 2016 2017 2018 2019 2020 2021]\n"
     ]
    }
   ],
   "source": [
    "import pandas as pd\n",
    "import numpy as np\n",
    "import os\n",
    "\n",
    "df = pd.read_csv('tv_shows.csv')\n",
    "Tvshows = pd.DataFrame(df)\n",
    "#   checking functionality\n",
    "print(np.unique(Tvshows['Year']))\n"
   ]
  },
  {
   "cell_type": "code",
   "execution_count": 4,
   "metadata": {},
   "outputs": [
    {
     "name": "stdout",
     "output_type": "stream",
     "text": [
      "      Unnamed: 0    ID                        Title  Year  Age    IMDb  \\\n",
      "5059        5059  5379                  WandaVision  2021  16+  8.0/10   \n",
      "971          971   974                        Jiva!  2021  18+  5.7/10   \n",
      "310          310   312                 The Innocent  2021  NaN  7.9/10   \n",
      "3534        3534  3715                         Them  2021  NaN  7.3/10   \n",
      "932          932   935      The Lost Pirate Kingdom  2021  18+  6.6/10   \n",
      "...          ...   ...                          ...   ...  ...     ...   \n",
      "4244        4244  4540                    Noveltoon  1943   7+     NaN   \n",
      "2406        2406  2483            The Three Stooges  1934  all  8.6/10   \n",
      "4493        4493  4795                   Betty Boop  1932  all     NaN   \n",
      "3250        3250  3382  The Little Rascals Classics  1931  NaN     NaN   \n",
      "4546        4546  4850      History of Westinghouse  1904  NaN     NaN   \n",
      "\n",
      "     Rotten Tomatoes  Netflix  Hulu  Prime Video  Disney+  Type  \n",
      "5059          89/100        0     0            0        1     1  \n",
      "971           53/100        1     0            0        0     1  \n",
      "310           69/100        1     0            0        0     1  \n",
      "3534          69/100        0     0            1        0     1  \n",
      "932           53/100        1     0            0        0     1  \n",
      "...              ...      ...   ...          ...      ...   ...  \n",
      "4244          36/100        0     0            1        0     1  \n",
      "2406          62/100        0     1            0        0     1  \n",
      "4493          23/100        0     0            1        0     1  \n",
      "3250          30/100        0     1            0        0     1  \n",
      "4546          17/100        0     0            1        0     1  \n",
      "\n",
      "[5368 rows x 12 columns]\n"
     ]
    }
   ],
   "source": [
    "import pandas as pd\n",
    "import numpy as np\n",
    "import os\n",
    "\n",
    "df = pd.read_csv('tv_shows.csv')\n",
    "Tvshows = pd.DataFrame(df)\n",
    "\n",
    "print(Tvshows.sort_values(by=['Year'], ascending=False))\n"
   ]
  },
  {
   "cell_type": "code",
   "execution_count": null,
   "metadata": {},
   "outputs": [],
   "source": []
  }
 ],
 "metadata": {
  "kernelspec": {
   "display_name": "Python 3.9.12 ('base')",
   "language": "python",
   "name": "python3"
  },
  "language_info": {
   "codemirror_mode": {
    "name": "ipython",
    "version": 3
   },
   "file_extension": ".py",
   "mimetype": "text/x-python",
   "name": "python",
   "nbconvert_exporter": "python",
   "pygments_lexer": "ipython3",
   "version": "3.9.12"
  },
  "orig_nbformat": 4,
  "vscode": {
   "interpreter": {
    "hash": "ad2bdc8ecc057115af97d19610ffacc2b4e99fae6737bb82f5d7fb13d2f2c186"
   }
  }
 },
 "nbformat": 4,
 "nbformat_minor": 2
}
